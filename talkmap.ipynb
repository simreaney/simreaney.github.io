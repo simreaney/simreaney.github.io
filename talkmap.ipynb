{
 "cells": [
  {
   "cell_type": "markdown",
   "metadata": {},
   "source": [
    "# Leaflet cluster map of talk locations\n",
    "\n",
    "Assuming you are working in a Linux or Windows Subsystem for Linux environment, you may need to install some dependencies. Assuming a clean installation, the following will be needed:\n",
    "\n",
    "```bash\n",
    "sudo apt install jupyter\n",
    "sudo apt install python3-pip\n",
    "pip install python-frontmatter getorg --upgrade\n",
    "```\n",
    "\n",
    "After which you can run this from the `_talks/` directory, via:\n",
    "\n",
    "```bash\n",
    " jupyter nbconvert --to notebook --execute talkmap.ipynb --output talkmap_out.ipynb\n",
    "```\n",
    " \n",
    "The `_talks/` directory contains `.md` files of all your talks. This scrapes the location YAML field from each `.md` file, geolocates it with `geopy/Nominatim`, and uses the `getorg` library to output data, HTML, and Javascript for a standalone cluster map."
   ]
  },
  {
   "cell_type": "code",
   "execution_count": 23,
   "metadata": {
    "collapsed": false
   },
   "outputs": [
    {
     "name": "stdout",
     "output_type": "stream",
     "text": [
      "Requirement already satisfied: python-frontmatter in /opt/anaconda3/lib/python3.12/site-packages (1.1.0)\n",
      "Requirement already satisfied: getorg in /opt/anaconda3/lib/python3.12/site-packages (0.3.1)\n",
      "Requirement already satisfied: PyYAML in /opt/anaconda3/lib/python3.12/site-packages (from python-frontmatter) (6.0.2)\n",
      "Requirement already satisfied: geopy in /opt/anaconda3/lib/python3.12/site-packages (from getorg) (2.4.1)\n",
      "Requirement already satisfied: pygithub in /opt/anaconda3/lib/python3.12/site-packages (from getorg) (2.6.1)\n",
      "Requirement already satisfied: retrying in /opt/anaconda3/lib/python3.12/site-packages (from getorg) (1.3.4)\n",
      "Requirement already satisfied: geographiclib<3,>=1.52 in /opt/anaconda3/lib/python3.12/site-packages (from geopy->getorg) (2.0)\n",
      "Requirement already satisfied: pynacl>=1.4.0 in /opt/anaconda3/lib/python3.12/site-packages (from pygithub->getorg) (1.5.0)\n",
      "Requirement already satisfied: requests>=2.14.0 in /opt/anaconda3/lib/python3.12/site-packages (from pygithub->getorg) (2.32.3)\n",
      "Requirement already satisfied: pyjwt>=2.4.0 in /opt/anaconda3/lib/python3.12/site-packages (from pyjwt[crypto]>=2.4.0->pygithub->getorg) (2.10.1)\n",
      "Requirement already satisfied: typing-extensions>=4.0.0 in /opt/anaconda3/lib/python3.12/site-packages (from pygithub->getorg) (4.12.2)\n",
      "Requirement already satisfied: urllib3>=1.26.0 in /opt/anaconda3/lib/python3.12/site-packages (from pygithub->getorg) (2.3.0)\n",
      "Requirement already satisfied: Deprecated in /opt/anaconda3/lib/python3.12/site-packages (from pygithub->getorg) (1.2.18)\n",
      "Requirement already satisfied: six>=1.7.0 in /opt/anaconda3/lib/python3.12/site-packages (from retrying->getorg) (1.17.0)\n",
      "Requirement already satisfied: cryptography>=3.4.0 in /opt/anaconda3/lib/python3.12/site-packages (from pyjwt[crypto]>=2.4.0->pygithub->getorg) (44.0.2)\n",
      "Requirement already satisfied: cffi>=1.4.1 in /opt/anaconda3/lib/python3.12/site-packages (from pynacl>=1.4.0->pygithub->getorg) (1.17.1)\n",
      "Requirement already satisfied: charset_normalizer<4,>=2 in /opt/anaconda3/lib/python3.12/site-packages (from requests>=2.14.0->pygithub->getorg) (3.4.1)\n",
      "Requirement already satisfied: idna<4,>=2.5 in /opt/anaconda3/lib/python3.12/site-packages (from requests>=2.14.0->pygithub->getorg) (3.10)\n",
      "Requirement already satisfied: certifi>=2017.4.17 in /opt/anaconda3/lib/python3.12/site-packages (from requests>=2.14.0->pygithub->getorg) (2025.1.31)\n",
      "Requirement already satisfied: wrapt<2,>=1.10 in /opt/anaconda3/lib/python3.12/site-packages (from Deprecated->pygithub->getorg) (1.17.2)\n",
      "Requirement already satisfied: pycparser in /opt/anaconda3/lib/python3.12/site-packages (from cffi>=1.4.1->pynacl>=1.4.0->pygithub->getorg) (2.22)\n"
     ]
    }
   ],
   "source": [
    "# Start by installing the dependencies\n",
    "!pip install python-frontmatter getorg --upgrade\n",
    "import frontmatter\n",
    "import glob\n",
    "import getorg\n",
    "from geopy import Nominatim\n",
    "from geopy.exc import GeocoderTimedOut"
   ]
  },
  {
   "cell_type": "markdown",
   "metadata": {},
   "source": [
    "In the event that this times out with an error, double check to make sure that the location is can be properly geolocated."
   ]
  },
  {
   "cell_type": "code",
   "execution_count": 24,
   "metadata": {
    "collapsed": false
   },
   "outputs": [
    {
     "name": "stdout",
     "output_type": "stream",
     "text": [
      "_talks/2015-04-01-The-value-of-oxygen-isotope-data-and-multiple-discharge-records-in-calibrating-a-fully-distributed-physically-based-rainfall-runoff-model-CRUM3-to-improve-predictive-capability.md\n",
      "_talks/2013-08-12-mySCIMAP.md\n",
      "_talks/2017-12-01-Tacking-Flood-Risk-from-Watersheds-using-a-Natural-Flood-Risk-Management-Toolkit.md\n",
      "_talks/2009-04-01-Long-term-changes-in-flood-risk-in-the-Eden-Catchment-Cumbria-Links-to-changes-in-Weather-Types-and-Land-Use.md\n",
      "_talks/2024-04-17-talk-EGU-SCIMAP-Flood.md\n",
      "_talks/2013-04-01-Rural-Land-Management-Simultaneous-benefits-for-both-floods-and-droughts.md\n",
      "_talks/wetterDryerBHS.md\n",
      "_talks/2010-05-01-Downscaling-catchment-scale-flood-risk-to-contributing-sub-catchments-to-determine-the-optimum-location-for-flood-management.md\n",
      "_talks/2016-12-01-The-Treatment-Train-approach-to-reducing-non-point-source-pollution-from-agriculture.md\n",
      "_talks/2007-12-01-The-Control-of-Salmonid-Populations-by-Hydrological-Connectivity-an-Analysis-at-the-Local-Reach-and-Watershed-scales.md\n",
      "_talks/2012-04-01-A-Monte-Carlo-approach-to-the-inverse-problem-of-diffuse-pollution-risk-in-agricultural-catchments.md\n",
      "_talks/2014-12-01-Designing-Schemes-to-Mitigate-Non-Point-Source-Water-Pollution-from-Agriculture-The-Value-of-High-Resolution-Hydrochemical-and-Hydrophysical-Data.md\n",
      "_talks/2014-05-01-The-Influence-of-temporal-sampling-regime-on-the-WFD-classification-of-catchments-within-the-Eden-Demonstration-Test-Catchment-Project.md\n",
      "_talks/2013-12-01-High-temporal-resolution-water-chemistry-information-for-catchment-understanding-and-management.md\n",
      "_talks/2016-12-01-A-New-Approach-To-Soil-Sampling-For-Risk-Assessment-Of-Nutrient-Mobilisation.md\n",
      "_talks/2009-12-01-SCIMAP-Modelling-Diffuse-Pollution-in-Large-River-Basins.md\n",
      "_talks/2012-12-01-Cloud-enabled-Web-Applications-for-Environmental-Modelling.md\n",
      "_talks/2010-05-01-Determining-which-land-management-practices-reduce-catchment-scale-flood-risk-and-where-to-implement-them-for-optimum-effect.md\n",
      "_talks/2010-05-01-Mapping-heat-wave-risk-in-the-UK-Proactive-planning-for-the-2050s.md\n",
      "_talks/2012-12-01-Improving-National-Capability-in-Biogeochemical-Flux-Modelling-the-UK-Environmental-Virtual-Observatory-EVOp.md\n",
      "_talks/2009-04-01-Importance-of-sub-catchments-peak-flow-relative-timing-on-downstream-flood-risk.md\n",
      "_talks/2008-12-01-Estimation-of-climate-change-impacts-on-river-flow-and-catchment-hydrological-connectivity-incorporating-uncertainty-from-multiple-climate-models-stochastic-downscaling-and-hydrological-model-parameterisation-error-sources.md\n",
      "_talks/2011-05-10-carlisleFlooding.md\n",
      "_talks/2016-09-01-ConnectEUR-Durham.md\n",
      "_talks/2014-12-01-Managing-multiple-non-point-pressures-on-water-quality-and-ecological-habitat-Spatially-targeting-effective-mitigation-actions-at-the-landscape-scale.md\n",
      "_talks/2019-07-09-talk-1.md\n",
      "_talks/2024-04-17-talk-EGU-KenyaTea.md\n",
      "_talks/2011-07-01-SCIMAPinUKandIreland.md\n",
      "_talks/2017-04-01-Catchment-Models-and-Management-Tools-for-diffuse-Contaminants-Sediment-Phosphorus-and-Pesticides-DIFFUSE-Project.md\n",
      "_talks/2024-06-27-talk-ChileSedimentCascades.md\n",
      "_talks/2012-12-01-Understanding-the-main-uncertainties-in-hydrological-impact-ensembles-of-Regional-Climate-Models-predictions-for-large-catchments-in-the-UK.md\n",
      "_talks/2025-04-17-talk-EGU-SCIMAP-diatoms.md\n",
      "_talks/2009-12-01-Towards-minimum-information-requirements-for-representing-hydrological-connectivity-at-the-landscape-scale-Invited.md\n",
      "_talks/2020-10-13-talk-IHRR-Floods.md\n",
      "_talks/2012-12-01-Hydrological-models-as-web-services-Experiences-from-the-Environmental-Virtual-Observatory-project.md\n",
      "_talks/2016-12-01-Temporal-dynamics-and-projected-future-changes-in-the-nitrate-leaching-in-a-small-river-catchment-dominated-by-under-drained-clay-soil-grasslands-analysis-of-high-frequency-monitoring-data.md\n",
      "_talks/hyssBRU.md\n",
      "_talks/2025-04-30-talk-EGU-Leakey.md\n",
      "_talks/2019-12-09-talk-EGU-NepalSCIMAPFlood.md\n",
      "_talks/2010-12-01-Death-and-landscape-dynamics-The-effect-of-tree-throw-on-sediment-transport-and-landscape-evolution.md\n",
      "_talks/2009-04-01-From-scaling-up-to-scaling-down-land-management-impacts-on-downstream-flood-risk.md\n",
      "_talks/2009-12-01-Simulating-the-Spatial-Distribution-of-Hydrological-Connectivity-Under-Possible-Future-Climates-Impacts-on-River-Flow-Dynamics-and-Non-Point-Source-Pollution.md\n",
      "_talks/2007-12-01-Spatially-based-management-of-agricultural-phosphorus-pollution-from-diffuse-sources-the-SCIMAP-risk-based-approach.md\n",
      "_talks/2010-12-01-The-Demonstration-Test-Catchment-Approach-to-Land-and-Water-Management-in-the-river-Eden-Watershed-UK-Invited.md\n",
      "_talks/2012-04-01-The-River-EdenDTC-Project-A-National-Demonstration-Test-Catchment.md\n",
      "_talks/2020-07-21-talk-CDUG-SCIMAP.md\n"
     ]
    },
    {
     "ename": "ReaderError",
     "evalue": "unacceptable character #x000b: control characters are not allowed\n  in \"<unicode string>\", position 28",
     "output_type": "error",
     "traceback": [
      "\u001b[0;31m---------------------------------------------------------------------------\u001b[0m",
      "\u001b[0;31mReaderError\u001b[0m                               Traceback (most recent call last)",
      "Cell \u001b[0;32mIn[24], line 19\u001b[0m\n\u001b[1;32m     17\u001b[0m \u001b[38;5;28mprint\u001b[39m(file)\n\u001b[1;32m     18\u001b[0m \u001b[38;5;66;03m# Read the file\u001b[39;00m\n\u001b[0;32m---> 19\u001b[0m data \u001b[38;5;241m=\u001b[39m \u001b[43mfrontmatter\u001b[49m\u001b[38;5;241;43m.\u001b[39;49m\u001b[43mload\u001b[49m\u001b[43m(\u001b[49m\u001b[43mfile\u001b[49m\u001b[43m)\u001b[49m\n\u001b[1;32m     21\u001b[0m data \u001b[38;5;241m=\u001b[39m data\u001b[38;5;241m.\u001b[39mto_dict()\n\u001b[1;32m     23\u001b[0m \u001b[38;5;66;03m# Press on if the location is not present\u001b[39;00m\n",
      "File \u001b[0;32m/opt/anaconda3/lib/python3.12/site-packages/frontmatter/__init__.py:165\u001b[0m, in \u001b[0;36mload\u001b[0;34m(fd, encoding, handler, **defaults)\u001b[0m\n\u001b[1;32m    162\u001b[0m         text \u001b[38;5;241m=\u001b[39m f\u001b[38;5;241m.\u001b[39mread()\n\u001b[1;32m    164\u001b[0m handler \u001b[38;5;241m=\u001b[39m handler \u001b[38;5;129;01mor\u001b[39;00m detect_format(text, handlers)\n\u001b[0;32m--> 165\u001b[0m \u001b[38;5;28;01mreturn\u001b[39;00m \u001b[43mloads\u001b[49m\u001b[43m(\u001b[49m\u001b[43mtext\u001b[49m\u001b[43m,\u001b[49m\u001b[43m \u001b[49m\u001b[43mencoding\u001b[49m\u001b[43m,\u001b[49m\u001b[43m \u001b[49m\u001b[43mhandler\u001b[49m\u001b[43m,\u001b[49m\u001b[43m \u001b[49m\u001b[38;5;241;43m*\u001b[39;49m\u001b[38;5;241;43m*\u001b[39;49m\u001b[43mdefaults\u001b[49m\u001b[43m)\u001b[49m\n",
      "File \u001b[0;32m/opt/anaconda3/lib/python3.12/site-packages/frontmatter/__init__.py:185\u001b[0m, in \u001b[0;36mloads\u001b[0;34m(text, encoding, handler, **defaults)\u001b[0m\n\u001b[1;32m    183\u001b[0m text \u001b[38;5;241m=\u001b[39m u(text, encoding)\n\u001b[1;32m    184\u001b[0m handler \u001b[38;5;241m=\u001b[39m handler \u001b[38;5;129;01mor\u001b[39;00m detect_format(text, handlers)\n\u001b[0;32m--> 185\u001b[0m metadata, content \u001b[38;5;241m=\u001b[39m \u001b[43mparse\u001b[49m\u001b[43m(\u001b[49m\u001b[43mtext\u001b[49m\u001b[43m,\u001b[49m\u001b[43m \u001b[49m\u001b[43mencoding\u001b[49m\u001b[43m,\u001b[49m\u001b[43m \u001b[49m\u001b[43mhandler\u001b[49m\u001b[43m,\u001b[49m\u001b[43m \u001b[49m\u001b[38;5;241;43m*\u001b[39;49m\u001b[38;5;241;43m*\u001b[39;49m\u001b[43mdefaults\u001b[49m\u001b[43m)\u001b[49m\n\u001b[1;32m    186\u001b[0m \u001b[38;5;28;01mreturn\u001b[39;00m Post(content, handler, \u001b[38;5;241m*\u001b[39m\u001b[38;5;241m*\u001b[39mmetadata)\n",
      "File \u001b[0;32m/opt/anaconda3/lib/python3.12/site-packages/frontmatter/__init__.py:92\u001b[0m, in \u001b[0;36mparse\u001b[0;34m(text, encoding, handler, **defaults)\u001b[0m\n\u001b[1;32m     89\u001b[0m     \u001b[38;5;28;01mreturn\u001b[39;00m metadata, text\n\u001b[1;32m     91\u001b[0m \u001b[38;5;66;03m# parse, now that we have frontmatter\u001b[39;00m\n\u001b[0;32m---> 92\u001b[0m fm_data \u001b[38;5;241m=\u001b[39m \u001b[43mhandler\u001b[49m\u001b[38;5;241;43m.\u001b[39;49m\u001b[43mload\u001b[49m\u001b[43m(\u001b[49m\u001b[43mfm\u001b[49m\u001b[43m)\u001b[49m\n\u001b[1;32m     93\u001b[0m \u001b[38;5;28;01mif\u001b[39;00m \u001b[38;5;28misinstance\u001b[39m(fm_data, \u001b[38;5;28mdict\u001b[39m):\n\u001b[1;32m     94\u001b[0m     metadata\u001b[38;5;241m.\u001b[39mupdate(fm_data)\n",
      "File \u001b[0;32m/opt/anaconda3/lib/python3.12/site-packages/frontmatter/default_handlers.py:260\u001b[0m, in \u001b[0;36mYAMLHandler.load\u001b[0;34m(self, fm, **kwargs)\u001b[0m\n\u001b[1;32m    256\u001b[0m \u001b[38;5;250m\u001b[39m\u001b[38;5;124;03m\"\"\"\u001b[39;00m\n\u001b[1;32m    257\u001b[0m \u001b[38;5;124;03mParse YAML front matter. This uses yaml.SafeLoader by default.\u001b[39;00m\n\u001b[1;32m    258\u001b[0m \u001b[38;5;124;03m\"\"\"\u001b[39;00m\n\u001b[1;32m    259\u001b[0m kwargs\u001b[38;5;241m.\u001b[39msetdefault(\u001b[38;5;124m\"\u001b[39m\u001b[38;5;124mLoader\u001b[39m\u001b[38;5;124m\"\u001b[39m, SafeLoader)\n\u001b[0;32m--> 260\u001b[0m \u001b[38;5;28;01mreturn\u001b[39;00m \u001b[43myaml\u001b[49m\u001b[38;5;241;43m.\u001b[39;49m\u001b[43mload\u001b[49m\u001b[43m(\u001b[49m\u001b[43mfm\u001b[49m\u001b[43m,\u001b[49m\u001b[43m \u001b[49m\u001b[38;5;241;43m*\u001b[39;49m\u001b[38;5;241;43m*\u001b[39;49m\u001b[43mkwargs\u001b[49m\u001b[43m)\u001b[49m\n",
      "File \u001b[0;32m/opt/anaconda3/lib/python3.12/site-packages/yaml/__init__.py:81\u001b[0m, in \u001b[0;36mload\u001b[0;34m(stream, Loader)\u001b[0m\n\u001b[1;32m     79\u001b[0m loader \u001b[38;5;241m=\u001b[39m Loader(stream)\n\u001b[1;32m     80\u001b[0m \u001b[38;5;28;01mtry\u001b[39;00m:\n\u001b[0;32m---> 81\u001b[0m     \u001b[38;5;28;01mreturn\u001b[39;00m \u001b[43mloader\u001b[49m\u001b[38;5;241;43m.\u001b[39;49m\u001b[43mget_single_data\u001b[49m\u001b[43m(\u001b[49m\u001b[43m)\u001b[49m\n\u001b[1;32m     82\u001b[0m \u001b[38;5;28;01mfinally\u001b[39;00m:\n\u001b[1;32m     83\u001b[0m     loader\u001b[38;5;241m.\u001b[39mdispose()\n",
      "File \u001b[0;32m/opt/anaconda3/lib/python3.12/site-packages/yaml/constructor.py:49\u001b[0m, in \u001b[0;36mBaseConstructor.get_single_data\u001b[0;34m(self)\u001b[0m\n\u001b[1;32m     47\u001b[0m \u001b[38;5;28;01mdef\u001b[39;00m\u001b[38;5;250m \u001b[39m\u001b[38;5;21mget_single_data\u001b[39m(\u001b[38;5;28mself\u001b[39m):\n\u001b[1;32m     48\u001b[0m     \u001b[38;5;66;03m# Ensure that the stream contains a single document and construct it.\u001b[39;00m\n\u001b[0;32m---> 49\u001b[0m     node \u001b[38;5;241m=\u001b[39m \u001b[38;5;28;43mself\u001b[39;49m\u001b[38;5;241;43m.\u001b[39;49m\u001b[43mget_single_node\u001b[49m\u001b[43m(\u001b[49m\u001b[43m)\u001b[49m\n\u001b[1;32m     50\u001b[0m     \u001b[38;5;28;01mif\u001b[39;00m node \u001b[38;5;129;01mis\u001b[39;00m \u001b[38;5;129;01mnot\u001b[39;00m \u001b[38;5;28;01mNone\u001b[39;00m:\n\u001b[1;32m     51\u001b[0m         \u001b[38;5;28;01mreturn\u001b[39;00m \u001b[38;5;28mself\u001b[39m\u001b[38;5;241m.\u001b[39mconstruct_document(node)\n",
      "File \u001b[0;32myaml/_yaml.pyx:668\u001b[0m, in \u001b[0;36myaml._yaml.CParser.get_single_node\u001b[0;34m()\u001b[0m\n",
      "File \u001b[0;32myaml/_yaml.pyx:860\u001b[0m, in \u001b[0;36myaml._yaml.CParser._parse_next_event\u001b[0;34m()\u001b[0m\n",
      "\u001b[0;31mReaderError\u001b[0m: unacceptable character #x000b: control characters are not allowed\n  in \"<unicode string>\", position 28"
     ]
    }
   ],
   "source": [
    "import re\n",
    "\n",
    "# Collect the Markdown files\n",
    "g = glob.glob(\"_talks/*.md\")\n",
    "\n",
    "# Set the default timeout, in seconds\n",
    "TIMEOUT = 5\n",
    "\n",
    "# Prepare to geolocate\n",
    "geocoder = Nominatim(user_agent=\"academicpages.github.io\")\n",
    "location_dict = {}\n",
    "location = \"\"\n",
    "permalink = \"\"\n",
    "title = \"\"\n",
    "# Perform geolocation\n",
    "for file in g:\n",
    "    print(file)\n",
    "    # Read the file\n",
    "    data = frontmatter.load(file)\n",
    "\n",
    "    data = data.to_dict()\n",
    "\n",
    "    # Press on if the location is not present\n",
    "    if 'location' not in data:\n",
    "        continue\n",
    "\n",
    "    # Prepare the description\n",
    "    title = data['title'].strip()\n",
    "    location = data['location'].strip()\n",
    "    description = f\"{title}<br />{venue}; {location}\"\n",
    "\n",
    "\n",
    "    # Geocode the location and report the status\n",
    "    \n",
    "    try:\n",
    "        location_dict[description] = geocoder.geocode(location, timeout=TIMEOUT)\n",
    "    except ValueError as ex:\n",
    "        print(f\"Error: geocode failed on input {location} with message {ex}\")\n",
    "    except GeocoderTimedOut as ex:\n",
    "        print(f\"Error: geocode timed out on input {location} with message {ex}\")\n",
    "    except Exception as ex:\n",
    "        print(f\"An unhandled exception occurred while processing input {location} with message {ex}\")\n",
    "\n"
   ]
  },
  {
   "cell_type": "code",
   "execution_count": null,
   "metadata": {
    "collapsed": false
   },
   "outputs": [
    {
     "data": {
      "text/plain": [
       "'Written map to talkmap/'"
      ]
     },
     "execution_count": 22,
     "metadata": {},
     "output_type": "execute_result"
    }
   ],
   "source": [
    "# Save the map\n",
    "m = getorg.orgmap.create_map_obj()\n",
    "getorg.orgmap.output_html_cluster_map(location_dict, folder_name=\"talkmap\", hashed_usernames=False)"
   ]
  },
  {
   "cell_type": "code",
   "execution_count": null,
   "metadata": {
    "collapsed": true
   },
   "outputs": [],
   "source": []
  }
 ],
 "metadata": {
  "anaconda-cloud": {},
  "kernelspec": {
   "display_name": "base",
   "language": "python",
   "name": "python3"
  },
  "language_info": {
   "codemirror_mode": {
    "name": "ipython",
    "version": 3
   },
   "file_extension": ".py",
   "mimetype": "text/x-python",
   "name": "python",
   "nbconvert_exporter": "python",
   "pygments_lexer": "ipython3",
   "version": "3.12.3"
  }
 },
 "nbformat": 4,
 "nbformat_minor": 0
}

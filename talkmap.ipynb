{
 "cells": [
  {
   "cell_type": "markdown",
   "metadata": {},
   "source": [
    "# Leaflet cluster map of talk locations\n",
    "\n",
    "Assuming you are working in a Linux or Windows Subsystem for Linux environment, you may need to install some dependencies. Assuming a clean installation, the following will be needed:\n",
    "\n",
    "```bash\n",
    "sudo apt install jupyter\n",
    "sudo apt install python3-pip\n",
    "pip install python-frontmatter getorg --upgrade\n",
    "```\n",
    "\n",
    "After which you can run this from the `_talks/` directory, via:\n",
    "\n",
    "```bash\n",
    " jupyter nbconvert --to notebook --execute talkmap.ipynb --output talkmap_out.ipynb\n",
    "```\n",
    " \n",
    "The `_talks/` directory contains `.md` files of all your talks. This scrapes the location YAML field from each `.md` file, geolocates it with `geopy/Nominatim`, and uses the `getorg` library to output data, HTML, and Javascript for a standalone cluster map."
   ]
  },
  {
   "cell_type": "code",
   "execution_count": 1,
   "metadata": {
    "collapsed": false
   },
   "outputs": [
    {
     "name": "stdout",
     "output_type": "stream",
     "text": [
      "Iywidgets and ipyleaflet support disabled. You must be in a Jupyter notebook to use this feature.\n",
      "Error raised:\n",
      "No module named 'ipyleaflet'\n",
      "Check that you have enabled ipyleaflet in Jupyter with:\n",
      "    jupyter nbextension enable --py ipyleaflet\n"
     ]
    }
   ],
   "source": [
    "# Start by installing the dependencies\n",
    "# !pip install python-frontmatter getorg --upgrade\n",
    "import frontmatter\n",
    "import glob\n",
    "import getorg\n",
    "from geopy import Nominatim\n",
    "from geopy.exc import GeocoderTimedOut"
   ]
  },
  {
   "cell_type": "markdown",
   "metadata": {},
   "source": [
    "In the event that this times out with an error, double check to make sure that the location is can be properly geolocated."
   ]
  },
  {
   "cell_type": "code",
   "execution_count": 2,
   "metadata": {
    "collapsed": false
   },
   "outputs": [
    {
     "name": "stdout",
     "output_type": "stream",
     "text": [
      "_talks/2013-06-12-LUWQ.md\n",
      "_talks/2015-04-01-The-value-of-oxygen-isotope-data-and-multiple-discharge-records-in-calibrating-a-fully-distributed-physically-based-rainfall-runoff-model-CRUM3-to-improve-predictive-capability.md\n",
      "_talks/2013-08-12-mySCIMAP.md\n",
      "_talks/2017-12-01-Tacking-Flood-Risk-from-Watersheds-using-a-Natural-Flood-Risk-Management-Toolkit.md\n",
      "_talks/2009-04-01-Long-term-changes-in-flood-risk-in-the-Eden-Catchment-Cumbria-Links-to-changes-in-Weather-Types-and-Land-Use.md\n",
      "_talks/2024-04-17-talk-EGU-SCIMAP-Flood.md\n",
      "_talks/2013-04-01-Rural-Land-Management-Simultaneous-benefits-for-both-floods-and-droughts.md\n",
      "_talks/wetterDryerBHS.md\n",
      "_talks/2010-05-01-Downscaling-catchment-scale-flood-risk-to-contributing-sub-catchments-to-determine-the-optimum-location-for-flood-management.md\n",
      "_talks/2016-12-01-The-Treatment-Train-approach-to-reducing-non-point-source-pollution-from-agriculture.md\n",
      "_talks/2007-12-01-The-Control-of-Salmonid-Populations-by-Hydrological-Connectivity-an-Analysis-at-the-Local-Reach-and-Watershed-scales.md\n",
      "_talks/2012-04-01-A-Monte-Carlo-approach-to-the-inverse-problem-of-diffuse-pollution-risk-in-agricultural-catchments.md\n",
      "_talks/2014-12-01-Designing-Schemes-to-Mitigate-Non-Point-Source-Water-Pollution-from-Agriculture-The-Value-of-High-Resolution-Hydrochemical-and-Hydrophysical-Data.md\n",
      "_talks/2014-05-01-The-Influence-of-temporal-sampling-regime-on-the-WFD-classification-of-catchments-within-the-Eden-Demonstration-Test-Catchment-Project.md\n",
      "_talks/2013-12-01-High-temporal-resolution-water-chemistry-information-for-catchment-understanding-and-management.md\n",
      "_talks/2016-12-01-A-New-Approach-To-Soil-Sampling-For-Risk-Assessment-Of-Nutrient-Mobilisation.md\n",
      "_talks/2009-12-01-SCIMAP-Modelling-Diffuse-Pollution-in-Large-River-Basins.md\n",
      "_talks/2013-08-28-chapman.md\n",
      "_talks/2012-12-01-Cloud-enabled-Web-Applications-for-Environmental-Modelling.md\n",
      "_talks/2010-05-01-Determining-which-land-management-practices-reduce-catchment-scale-flood-risk-and-where-to-implement-them-for-optimum-effect.md\n",
      "_talks/2010-05-01-Mapping-heat-wave-risk-in-the-UK-Proactive-planning-for-the-2050s.md\n",
      "_talks/2012-12-01-Improving-National-Capability-in-Biogeochemical-Flux-Modelling-the-UK-Environmental-Virtual-Observatory-EVOp.md\n",
      "_talks/2009-04-01-Importance-of-sub-catchments-peak-flow-relative-timing-on-downstream-flood-risk.md\n",
      "_talks/2008-12-01-Estimation-of-climate-change-impacts-on-river-flow-and-catchment-hydrological-connectivity-incorporating-uncertainty-from-multiple-climate-models-stochastic-downscaling-and-hydrological-model-parameterisation-error-sources.md\n",
      "_talks/2011-05-10-carlisleFlooding.md\n",
      "_talks/2016-09-01-ConnectEUR-Durham.md\n",
      "_talks/2014-12-01-Managing-multiple-non-point-pressures-on-water-quality-and-ecological-habitat-Spatially-targeting-effective-mitigation-actions-at-the-landscape-scale.md\n",
      "_talks/2019-07-09-talk-1.md\n",
      "_talks/2024-04-17-talk-EGU-KenyaTea.md\n",
      "_talks/2011-07-01-SCIMAPinUKandIreland.md\n",
      "_talks/2017-04-01-Catchment-Models-and-Management-Tools-for-diffuse-Contaminants-Sediment-Phosphorus-and-Pesticides-DIFFUSE-Project.md\n",
      "_talks/2024-06-27-talk-ChileSedimentCascades.md\n",
      "_talks/2012-12-01-Understanding-the-main-uncertainties-in-hydrological-impact-ensembles-of-Regional-Climate-Models-predictions-for-large-catchments-in-the-UK.md\n",
      "_talks/2025-04-17-talk-EGU-SCIMAP-diatoms.md\n",
      "_talks/2009-12-01-Towards-minimum-information-requirements-for-representing-hydrological-connectivity-at-the-landscape-scale-Invited.md\n",
      "_talks/2020-10-13-talk-IHRR-Floods.md\n",
      "_talks/2012-12-01-Hydrological-models-as-web-services-Experiences-from-the-Environmental-Virtual-Observatory-project.md\n",
      "_talks/2016-12-01-Temporal-dynamics-and-projected-future-changes-in-the-nitrate-leaching-in-a-small-river-catchment-dominated-by-under-drained-clay-soil-grasslands-analysis-of-high-frequency-monitoring-data.md\n",
      "_talks/hyssBRU.md\n",
      "_talks/2025-04-30-talk-EGU-Leakey.md\n",
      "_talks/2019-12-09-talk-EGU-NepalSCIMAPFlood.md\n",
      "_talks/2010-12-01-Death-and-landscape-dynamics-The-effect-of-tree-throw-on-sediment-transport-and-landscape-evolution.md\n",
      "_talks/2009-04-01-From-scaling-up-to-scaling-down-land-management-impacts-on-downstream-flood-risk.md\n",
      "_talks/2009-12-01-Simulating-the-Spatial-Distribution-of-Hydrological-Connectivity-Under-Possible-Future-Climates-Impacts-on-River-Flow-Dynamics-and-Non-Point-Source-Pollution.md\n",
      "_talks/2007-12-01-Spatially-based-management-of-agricultural-phosphorus-pollution-from-diffuse-sources-the-SCIMAP-risk-based-approach.md\n",
      "_talks/2010-12-01-The-Demonstration-Test-Catchment-Approach-to-Land-and-Water-Management-in-the-river-Eden-Watershed-UK-Invited.md\n",
      "_talks/2012-04-01-The-River-EdenDTC-Project-A-National-Demonstration-Test-Catchment.md\n",
      "_talks/2020-07-21-talk-CDUG-SCIMAP.md\n",
      "_talks/2013-12-01-Emergent-structures-and-understanding-from-a-comparative-uncertainty-analysis-of-the-FUSE-rainfall-runoff-modelling-platform-for-gt1100-catchments.md\n",
      "_talks/2011-07-01-connectionAcrossTheLandscape.md\n",
      "_talks/2011-12-01-A-framework-to-understand-spatial-and-temporal-connectivity-dynamics-at-hill-slope-and-catchment-scales.md\n",
      "_talks/2014-08-015-ModellingToolsForCatchmentScience.md\n",
      "_talks/2016-12-01-Spatio-temporal-dynamics-in-phytobenthos-structural-properties-reveal-insights-into-agricultural-catchment-dynamics-and-nutrient-fluxes.md\n",
      "_talks/2015-04-01-The-challenge-of-lots-of-data-different-ways-to-synthesise-and-visualise-high-frequency-catchment-data.md\n",
      "_talks/2013-12-01-Understanding-fine-sediment-and-phosphorous-delivery-in-upland-catchments.md\n",
      "_talks/2018-03-01-talk-ConnectEUR.md\n",
      "_talks/2025-04-29-talk-EGU-floodNepal.md\n",
      "_talks/2011-12-01-Understanding-nutrient-connectivity-at-the-landscape-scale-The-use-of-the-SCIMAP-approach-in-the-UK-and-Ireland.md\n",
      "_talks/2019-12-09-talk-EGU-PhonesAndDrones.md\n",
      "_talks/2015-04-01-Investigating-the-potential-to-reduce-flood-risk-through-catchment-based-land-management-techniques-and-interventions-in-the-River-Roe-catchment-CumbriaUK.md\n",
      "_talks/2009-12-01-Spatial-and-Temporal-Influences-on-Hydrologic-Connectivity-A-Mathematical-Formalization.md\n",
      "_talks/2010-12-01-A-pilot-Virtual-Observatory-pVO-for-integrated-catchment-science-Demonstration-of-national-scale-modelling-of-hydrology-and-biogeochemistry-Invited.md\n",
      "_talks/2013-09-08-UoS.md\n",
      "_talks/2010-12-01-Inverse-modelling-of-diffuse-pollution-risks-in-agricultural-catchments.md\n",
      "_talks/2016-12-01-Mitigating-Agricultural-Diffuse-Pollution-Learning-from-The-River-Eden-Demonstration-Test-Catchment-Experiments.md\n",
      "_talks/2010-12-01-Optimal-sampling-of-soil-depth-variability-for-the-prediction-of-hydrological-response.md\n",
      "_talks/2015-04-01-Managing-multiple-diffuse-pressures-on-water-quality-and-ecological-habitat-Spatially-targeting-effective-mitigation-actions-at-the-landscape-scale.md\n",
      "_talks/2024-04-17-talk-EGU-ChileSediment.md\n",
      "_talks/2023-04-26-talk-EGU-Pharama.md\n",
      "_talks/2010-12-01-Science-in-the-clouds-UAVs-and-cloud-computing-methods-for-spatial-diffuse-pollution-risk-assessment-Invited.md\n",
      "_talks/2014-05-01-Time-integrated-suspended-sediment-monitoring-networks-Potential-and-implications-for-geomorphology.md\n",
      "_talks/2019-12-09-talk-AGU-NepalFlooding.md\n"
     ]
    }
   ],
   "source": [
    "import re\n",
    "\n",
    "# Collect the Markdown files\n",
    "g = glob.glob(\"_talks/*.md\")\n",
    "\n",
    "# Set the default timeout, in seconds\n",
    "TIMEOUT = 5\n",
    "\n",
    "# Prepare to geolocate\n",
    "geocoder = Nominatim(user_agent=\"academicpages.github.io\")\n",
    "location_dict = {}\n",
    "location = \"\"\n",
    "permalink = \"\"\n",
    "title = \"\"\n",
    "# Perform geolocation\n",
    "for file in g:\n",
    "    print(file)\n",
    "    # Read the file\n",
    "    data = frontmatter.load(file)\n",
    "\n",
    "    data = data.to_dict()\n",
    "\n",
    "    # Press on if the location is not present\n",
    "    if 'location' not in data:\n",
    "        continue\n",
    "\n",
    "    # Prepare the description\n",
    "    title = data['title'].strip()\n",
    "    location = data['location'].strip()\n",
    "    # description = f\"{title}<br />{venue}; {location}\"\n",
    "    description = f\"{title}<br />; {location}\"\n",
    "\n",
    "\n",
    "    # Geocode the location and report the status\n",
    "    \n",
    "    try:\n",
    "        location_dict[description] = geocoder.geocode(location, timeout=TIMEOUT)\n",
    "    except ValueError as ex:\n",
    "        print(f\"Error: geocode failed on input {location} with message {ex}\")\n",
    "    except GeocoderTimedOut as ex:\n",
    "        print(f\"Error: geocode timed out on input {location} with message {ex}\")\n",
    "    except Exception as ex:\n",
    "        print(f\"An unhandled exception occurred while processing input {location} with message {ex}\")\n",
    "\n"
   ]
  },
  {
   "cell_type": "code",
   "execution_count": 3,
   "metadata": {
    "collapsed": false
   },
   "outputs": [
    {
     "data": {
      "text/plain": [
       "'Written map to talkmap/'"
      ]
     },
     "execution_count": 3,
     "metadata": {},
     "output_type": "execute_result"
    }
   ],
   "source": [
    "# Save the map\n",
    "m = getorg.orgmap.create_map_obj()\n",
    "getorg.orgmap.output_html_cluster_map(location_dict, folder_name=\"talkmap\", hashed_usernames=False)"
   ]
  },
  {
   "cell_type": "code",
   "execution_count": null,
   "metadata": {
    "collapsed": true
   },
   "outputs": [],
   "source": []
  }
 ],
 "metadata": {
  "anaconda-cloud": {},
  "kernelspec": {
   "display_name": "base",
   "language": "python",
   "name": "python3"
  },
  "language_info": {
   "codemirror_mode": {
    "name": "ipython",
    "version": 3
   },
   "file_extension": ".py",
   "mimetype": "text/x-python",
   "name": "python",
   "nbconvert_exporter": "python",
   "pygments_lexer": "ipython3",
   "version": "3.12.3"
  }
 },
 "nbformat": 4,
 "nbformat_minor": 0
}

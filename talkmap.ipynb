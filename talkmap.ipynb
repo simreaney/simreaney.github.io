{
 "cells": [
  {
   "cell_type": "markdown",
   "metadata": {},
   "source": [
    "# Leaflet cluster map of talk locations\n",
    "\n",
    "Assuming you are working in a Linux or Windows Subsystem for Linux environment, you may need to install some dependencies. Assuming a clean installation, the following will be needed:\n",
    "\n",
    "```bash\n",
    "sudo apt install jupyter\n",
    "sudo apt install python3-pip\n",
    "pip install python-frontmatter getorg --upgrade\n",
    "```\n",
    "\n",
    "After which you can run this from the `_talks/` directory, via:\n",
    "\n",
    "```bash\n",
    " jupyter nbconvert --to notebook --execute talkmap.ipynb --output talkmap_out.ipynb\n",
    "```\n",
    " \n",
    "The `_talks/` directory contains `.md` files of all your talks. This scrapes the location YAML field from each `.md` file, geolocates it with `geopy/Nominatim`, and uses the `getorg` library to output data, HTML, and Javascript for a standalone cluster map."
   ]
  },
  {
   "cell_type": "code",
   "execution_count": 1,
   "metadata": {
    "collapsed": false
   },
   "outputs": [
    {
     "name": "stdout",
     "output_type": "stream",
     "text": [
      "Requirement already satisfied: python-frontmatter in /opt/anaconda3/lib/python3.12/site-packages (1.1.0)\n",
      "Requirement already satisfied: getorg in /opt/anaconda3/lib/python3.12/site-packages (0.3.1)\n",
      "Requirement already satisfied: PyYAML in /opt/anaconda3/lib/python3.12/site-packages (from python-frontmatter) (6.0.2)\n",
      "Requirement already satisfied: geopy in /opt/anaconda3/lib/python3.12/site-packages (from getorg) (2.4.1)\n",
      "Requirement already satisfied: pygithub in /opt/anaconda3/lib/python3.12/site-packages (from getorg) (2.6.1)\n",
      "Requirement already satisfied: retrying in /opt/anaconda3/lib/python3.12/site-packages (from getorg) (1.3.4)\n",
      "Requirement already satisfied: geographiclib<3,>=1.52 in /opt/anaconda3/lib/python3.12/site-packages (from geopy->getorg) (2.0)\n",
      "Requirement already satisfied: pynacl>=1.4.0 in /opt/anaconda3/lib/python3.12/site-packages (from pygithub->getorg) (1.5.0)\n",
      "Requirement already satisfied: requests>=2.14.0 in /opt/anaconda3/lib/python3.12/site-packages (from pygithub->getorg) (2.32.3)\n",
      "Requirement already satisfied: pyjwt>=2.4.0 in /opt/anaconda3/lib/python3.12/site-packages (from pyjwt[crypto]>=2.4.0->pygithub->getorg) (2.10.1)\n",
      "Requirement already satisfied: typing-extensions>=4.0.0 in /opt/anaconda3/lib/python3.12/site-packages (from pygithub->getorg) (4.12.2)\n",
      "Requirement already satisfied: urllib3>=1.26.0 in /opt/anaconda3/lib/python3.12/site-packages (from pygithub->getorg) (2.3.0)\n",
      "Requirement already satisfied: Deprecated in /opt/anaconda3/lib/python3.12/site-packages (from pygithub->getorg) (1.2.18)\n",
      "Requirement already satisfied: six>=1.7.0 in /opt/anaconda3/lib/python3.12/site-packages (from retrying->getorg) (1.17.0)\n",
      "Requirement already satisfied: cryptography>=3.4.0 in /opt/anaconda3/lib/python3.12/site-packages (from pyjwt[crypto]>=2.4.0->pygithub->getorg) (44.0.2)\n",
      "Requirement already satisfied: cffi>=1.4.1 in /opt/anaconda3/lib/python3.12/site-packages (from pynacl>=1.4.0->pygithub->getorg) (1.17.1)\n",
      "Requirement already satisfied: charset_normalizer<4,>=2 in /opt/anaconda3/lib/python3.12/site-packages (from requests>=2.14.0->pygithub->getorg) (3.4.1)\n",
      "Requirement already satisfied: idna<4,>=2.5 in /opt/anaconda3/lib/python3.12/site-packages (from requests>=2.14.0->pygithub->getorg) (3.10)\n",
      "Requirement already satisfied: certifi>=2017.4.17 in /opt/anaconda3/lib/python3.12/site-packages (from requests>=2.14.0->pygithub->getorg) (2025.1.31)\n",
      "Requirement already satisfied: wrapt<2,>=1.10 in /opt/anaconda3/lib/python3.12/site-packages (from Deprecated->pygithub->getorg) (1.17.2)\n",
      "Requirement already satisfied: pycparser in /opt/anaconda3/lib/python3.12/site-packages (from cffi>=1.4.1->pynacl>=1.4.0->pygithub->getorg) (2.22)\n",
      "Iywidgets and ipyleaflet support disabled. You must be in a Jupyter notebook to use this feature.\n",
      "Error raised:\n",
      "No module named 'ipyleaflet'\n",
      "Check that you have enabled ipyleaflet in Jupyter with:\n",
      "    jupyter nbextension enable --py ipyleaflet\n"
     ]
    }
   ],
   "source": [
    "# Start by installing the dependencies\n",
    "!pip install python-frontmatter getorg --upgrade\n",
    "import frontmatter\n",
    "import glob\n",
    "import getorg\n",
    "from geopy import Nominatim\n",
    "from geopy.exc import GeocoderTimedOut"
   ]
  },
  {
   "cell_type": "code",
   "execution_count": null,
   "metadata": {
    "collapsed": true
   },
   "outputs": [],
   "source": [
    "# Collect the Markdown files\n",
    "g = glob.glob(\"_talks/*.md\")\n",
    "\n",
    "# Set the default timeout, in seconds\n",
    "TIMEOUT = 5\n",
    "\n",
    "# Prepare to geolocate\n",
    "geocoder = Nominatim(user_agent=\"academicpages.github.io\")\n",
    "location_dict = {}\n",
    "location = \"\"\n",
    "permalink = \"\"\n",
    "title = \"\""
   ]
  },
  {
   "cell_type": "markdown",
   "metadata": {},
   "source": [
    "In the event that this times out with an error, double check to make sure that the location is can be properly geolocated."
   ]
  },
  {
   "cell_type": "code",
   "execution_count": null,
   "metadata": {
    "collapsed": false
   },
   "outputs": [
    {
     "name": "stdout",
     "output_type": "stream",
     "text": [
      "The value of oxygen-isotope data and multiple discharge records in calibrating a fully-distributed, physically-based rainfall-runoff model (CRUM3) to improve predictive capability<br />In the proceedings of EGU General Assembly Conference Abstracts; Vienna, Austria Wien, Österreich\n",
      "Tacking Flood Risk from Watersheds using a Natural Flood Risk Management Toolkit<br />In the proceedings of AGU Fall Meeting Abstracts; New Orleans, USA New Orleans, Orleans Parish, Louisiana, United States\n",
      "Long term changes in flood risk in the Eden Catchment, Cumbria: Links to changes in Weather Types and Land Use<br />In the proceedings of EGU General Assembly Conference Abstracts; Vienna, Austria Wien, Österreich\n",
      "Opportunity mapping for nature-based solutions for flood hazard reduction and water quality improvements with the SCIMAP toolkit<br />EGU; Vienna, Austria Wien, Österreich\n",
      "Rural Land Management: Simultaneous benefits for both floods and droughts?<br />In the proceedings of EGU General Assembly Conference Abstracts; Vienna, Austria Wien, Österreich\n",
      "Downscaling catchment scale flood risk to contributing sub-catchments to determine the optimum location for flood management.<br />In the proceedings of EGU General Assembly Conference Abstracts; Vienna, Austria Wien, Österreich\n",
      "The Treatment Train approach to reducing non-point source pollution from agriculture<br />In the proceedings of AGU Fall Meeting Abstracts; San Francisco, USA San Francisco, California, United States\n",
      "The Control of Salmonid Populations by Hydrological Connectivity: an Analysis at the Local, Reach and Watershed scales<br />In the proceedings of AGU Fall Meeting Abstracts; San Francisco, USA San Francisco, California, United States\n",
      "A Monte Carlo approach to the inverse problem of diffuse pollution risk in agricultural catchments<br />In the proceedings of EGU General Assembly Conference Abstracts; Vienna, Austria Wien, Österreich\n",
      "Designing Schemes to Mitigate Non-Point Source Water Pollution from Agriculture: The Value of High-Resolution Hydrochemical and Hydrophysical Data<br />In the proceedings of AGU Fall Meeting Abstracts; San Francisco, USA San Francisco, California, United States\n",
      "The Influence of temporal sampling regime on the WFD classification of catchments within the Eden Demonstration Test Catchment Project<br />In the proceedings of EGU General Assembly Conference Abstracts; Vienna, Austria Wien, Österreich\n",
      "High temporal resolution water chemistry information for catchment understanding and management<br />In the proceedings of AGU Fall Meeting Abstracts; San Francisco, USA San Francisco, California, United States\n",
      "A New Approach To Soil Sampling For Risk Assessment Of Nutrient Mobilisation.<br />In the proceedings of AGU Fall Meeting Abstracts; San Francisco, USA San Francisco, California, United States\n",
      "SCIMAP: Modelling Diffuse Pollution in Large River Basins<br />In the proceedings of AGU Fall Meeting Abstracts; San Francisco, USA San Francisco, California, United States\n",
      "Cloud-enabled Web Applications for Environmental Modelling<br />In the proceedings of AGU Fall Meeting Abstracts; San Francisco, USA San Francisco, California, United States\n",
      "Determining which land management practices reduce catchment scale flood risk and where to implement them for optimum effect<br />In the proceedings of EGU General Assembly Conference Abstracts; Vienna, Austria Wien, Österreich\n",
      "Mapping heat wave risk in the UK: Proactive planning for the 2050s<br />In the proceedings of EGU General Assembly Conference Abstracts; Vienna, Austria Wien, Österreich\n",
      "Improving National Capability in Biogeochemical Flux Modelling: the UK Environmental Virtual Observatory (EVOp)<br />In the proceedings of AGU Fall Meeting Abstracts; San Francisco, USA San Francisco, California, United States\n",
      "Importance of sub-catchments peak flow relative timing on downstream flood risk<br />In the proceedings of EGU General Assembly Conference Abstracts; Vienna, Austria Wien, Österreich\n",
      "Estimation of climate change impacts on river flow and catchment hydrological connectivity incorporating uncertainty from multiple climate models, stochastic downscaling and hydrological model parameterisation error sources<br />In the proceedings of AGU Fall Meeting Abstracts; San Francisco, USA San Francisco, California, United States\n",
      "Modelling tools for catchment hydrological connectivity: Terrain analysis, dynamic simulation and software agents<br />Durham University; Durham, UK County Durham, North East, England, United Kingdom\n",
      "Managing multiple non-point pressures on water quality and ecological habitat: Spatially targeting effective mitigation actions at the landscape scale.<br />In the proceedings of AGU Fall Meeting Abstracts; San Francisco, USA San Francisco, California, United States\n",
      "Use of Remote Sensing techniques and drones in mapping potential areas for managed aquifer recharge<br />University of Botswana; Gaborone, Botswana Gaborone, Botswana\n",
      "The effect of land surface characteristics on runoff generation and nitrate fluxes from a Kenyan tea plantation<br />EGU; Vienna, Austria Wien, Österreich\n",
      "Catchment Models and Management Tools for diffuse Contaminants (Sediment, Phosphorus and Pesticides): DIFFUSE Project<br />In the proceedings of EGU General Assembly Conference Abstracts; Vienna, Austria Wien, Österreich\n",
      "The sources of flood waters and their geomorphic impacts<br />Sediment Cascades Workshop; Los Quenes, Chile Los Queñes, Navidad, Provincia de Cardenal Caro, Chile\n",
      "Understanding the main uncertainties in hydrological impact ensembles of Regional Climate Models predictions for large catchments in the UK<br />In the proceedings of AGU Fall Meeting Abstracts; San Francisco, USA San Francisco, California, United States\n"
     ]
    }
   ],
   "source": [
    "# Perform geolocation\n",
    "for file in g:\n",
    "    # Read the file\n",
    "    data = frontmatter.load(file)\n",
    "    data = data.to_dict()\n",
    "\n",
    "    # Press on if the location is not present\n",
    "    if 'location' not in data:\n",
    "        continue\n",
    "\n",
    "    # Prepare the description\n",
    "    title = data['title'].strip()\n",
    "    venue = data['venue'].strip()\n",
    "    location = data['location'].strip()\n",
    "    description = f\"{title}<br />{venue}; {location}\"\n",
    "\n",
    "    # Geocode the location and report the status\n",
    "    try:\n",
    "        location_dict[description] = geocoder.geocode(location, timeout=TIMEOUT)\n",
    "        print(description, location_dict[description])\n",
    "    except ValueError as ex:\n",
    "        print(f\"Error: geocode failed on input {location} with message {ex}\")\n",
    "    except GeocoderTimedOut as ex:\n",
    "        print(f\"Error: geocode timed out on input {location} with message {ex}\")\n",
    "    except Exception as ex:\n",
    "        print(f\"An unhandled exception occurred while processing input {location} with message {ex}\")"
   ]
  },
  {
   "cell_type": "code",
   "execution_count": 9,
   "metadata": {
    "collapsed": false
   },
   "outputs": [
    {
     "data": {
      "text/plain": [
       "'Written map to talkmap/'"
      ]
     },
     "execution_count": 9,
     "metadata": {},
     "output_type": "execute_result"
    }
   ],
   "source": [
    "# Save the map\n",
    "m = getorg.orgmap.create_map_obj()\n",
    "getorg.orgmap.output_html_cluster_map(location_dict, folder_name=\"talkmap\", hashed_usernames=False)"
   ]
  },
  {
   "cell_type": "code",
   "execution_count": null,
   "metadata": {
    "collapsed": true
   },
   "outputs": [],
   "source": []
  }
 ],
 "metadata": {
  "anaconda-cloud": {},
  "kernelspec": {
   "display_name": "base",
   "language": "python",
   "name": "python3"
  },
  "language_info": {
   "codemirror_mode": {
    "name": "ipython",
    "version": 3
   },
   "file_extension": ".py",
   "mimetype": "text/x-python",
   "name": "python",
   "nbconvert_exporter": "python",
   "pygments_lexer": "ipython3",
   "version": "3.12.3"
  }
 },
 "nbformat": 4,
 "nbformat_minor": 0
}
